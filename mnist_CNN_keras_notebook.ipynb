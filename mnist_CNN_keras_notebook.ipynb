{
 "cells": [
  {
   "cell_type": "markdown",
   "metadata": {},
   "source": [
    "# Simplest CNN for MNIST Digit-Rcognizer\n",
    "\n",
    "What is MNIST Dataset?\n",
    "MNIST Database is a collection of Images of Hand written Numbers (0-9). Each image is of size 28x28 pixels i.e 28 pixels in length and 28 pixels in height with only 1 axis to represent color gradient which is Black and White. Original Training set have 60,000 images for training and 10,000 images for test. But here in Kaggle we are given 42,000 images with label which will be used for training and 28,000 images to test/ predict results on.\n",
    "\n",
    "Entire Notebook has 4 major segments:\n",
    "1st - DATA EXTRACTION\n",
    "2ND - DATA PREPROCESSING\n",
    "3RD - MODELLING\n",
    "4TH - DATA POST PROCESS"
   ]
  },
  {
   "cell_type": "code",
   "execution_count": 1,
   "metadata": {
    "_cell_guid": "b1076dfc-b9ad-4769-8c92-a6c4dae69d19",
    "_uuid": "8f2839f25d086af736a60e9eeb907d3b93b6e0e5"
   },
   "outputs": [
    {
     "name": "stdout",
     "output_type": "stream",
     "text": [
      "/kaggle/input/digit-recognizer/train.csv\n",
      "/kaggle/input/digit-recognizer/sample_submission.csv\n",
      "/kaggle/input/digit-recognizer/test.csv\n"
     ]
    }
   ],
   "source": [
    "import numpy as np \n",
    "import pandas as pd # data processing, CSV file I/O (e.g. pd.read_csv)\n",
    "\n",
    "# Input data files are available in the \"../input/\" directory.\n",
    "# For example, running this (by clicking run or pressing Shift+Enter) will list all files under the input directory\n",
    "\n",
    "import os\n",
    "for dirname, _, filenames in os.walk('/kaggle/input'):\n",
    "    for filename in filenames:\n",
    "        print(os.path.join(dirname, filename))\n",
    "\n",
    "# Any results you write to the current directory are saved as output."
   ]
  },
  {
   "cell_type": "markdown",
   "metadata": {},
   "source": [
    "# DATA EXTRACTION\n",
    "Data extraction from Given CSV files"
   ]
  },
  {
   "cell_type": "code",
   "execution_count": 2,
   "metadata": {
    "_cell_guid": "79c7e3d0-c299-4dcb-8224-4455121ee9b0",
    "_uuid": "d629ff2d2480ee46fbb7e2d37f6b5fab8052498a"
   },
   "outputs": [
    {
     "name": "stdout",
     "output_type": "stream",
     "text": [
      "(42000, 785)\n",
      "(28000, 784)\n"
     ]
    }
   ],
   "source": [
    "import pandas as pd\n",
    "import numpy as np\n",
    "import matplotlib.pyplot as plt\n",
    "\n",
    "train_x_orig = pd.read_csv('/kaggle/input/digit-recognizer/train.csv')\n",
    "test_x_orig = pd.read_csv('/kaggle/input/digit-recognizer/test.csv')\n",
    "\n",
    "print(train_x_orig.shape)\n",
    "print(test_x_orig.shape)"
   ]
  },
  {
   "cell_type": "markdown",
   "metadata": {},
   "source": [
    "Raw data:\n",
    "train.csv and test.csv have Different shapes as Train.csv contains one extra column for actual labels of images 785-784. and 42,000 , 28,000 represent the number of images.\n",
    "\n",
    "The difference between them can be seen by calling there HEAD for 5 instances."
   ]
  },
  {
   "cell_type": "code",
   "execution_count": 3,
   "metadata": {},
   "outputs": [
    {
     "name": "stdout",
     "output_type": "stream",
     "text": [
      "traiing dataset columns    label  pixel0  pixel1  pixel2  pixel3  pixel4  pixel5  pixel6  pixel7  \\\n",
      "0      1       0       0       0       0       0       0       0       0   \n",
      "1      0       0       0       0       0       0       0       0       0   \n",
      "2      1       0       0       0       0       0       0       0       0   \n",
      "3      4       0       0       0       0       0       0       0       0   \n",
      "4      0       0       0       0       0       0       0       0       0   \n",
      "\n",
      "   pixel8    ...     pixel774  pixel775  pixel776  pixel777  pixel778  \\\n",
      "0       0    ...            0         0         0         0         0   \n",
      "1       0    ...            0         0         0         0         0   \n",
      "2       0    ...            0         0         0         0         0   \n",
      "3       0    ...            0         0         0         0         0   \n",
      "4       0    ...            0         0         0         0         0   \n",
      "\n",
      "   pixel779  pixel780  pixel781  pixel782  pixel783  \n",
      "0         0         0         0         0         0  \n",
      "1         0         0         0         0         0  \n",
      "2         0         0         0         0         0  \n",
      "3         0         0         0         0         0  \n",
      "4         0         0         0         0         0  \n",
      "\n",
      "[5 rows x 785 columns]\n",
      "\n",
      " test set columns    pixel0  pixel1  pixel2  pixel3  pixel4  pixel5  pixel6  pixel7  pixel8  \\\n",
      "0       0       0       0       0       0       0       0       0       0   \n",
      "1       0       0       0       0       0       0       0       0       0   \n",
      "2       0       0       0       0       0       0       0       0       0   \n",
      "3       0       0       0       0       0       0       0       0       0   \n",
      "4       0       0       0       0       0       0       0       0       0   \n",
      "\n",
      "   pixel9    ...     pixel774  pixel775  pixel776  pixel777  pixel778  \\\n",
      "0       0    ...            0         0         0         0         0   \n",
      "1       0    ...            0         0         0         0         0   \n",
      "2       0    ...            0         0         0         0         0   \n",
      "3       0    ...            0         0         0         0         0   \n",
      "4       0    ...            0         0         0         0         0   \n",
      "\n",
      "   pixel779  pixel780  pixel781  pixel782  pixel783  \n",
      "0         0         0         0         0         0  \n",
      "1         0         0         0         0         0  \n",
      "2         0         0         0         0         0  \n",
      "3         0         0         0         0         0  \n",
      "4         0         0         0         0         0  \n",
      "\n",
      "[5 rows x 784 columns]\n",
      "<class 'pandas.core.frame.DataFrame'>\n",
      "<class 'pandas.core.frame.DataFrame'>\n"
     ]
    }
   ],
   "source": [
    "print('traiing dataset columns',train_x_orig.head())\n",
    "print('\\n test set columns',test_x_orig.head())\n",
    "\n",
    "print(type(train_x_orig))\n",
    "print(type(test_x_orig))"
   ]
  },
  {
   "cell_type": "markdown",
   "metadata": {},
   "source": [
    "Extracting Lables and pixels from our train_x_orig dataset.\n",
    "As we will preprocess the pixels values before fitting the model."
   ]
  },
  {
   "cell_type": "markdown",
   "metadata": {},
   "source": [
    "DATA extracted is in DATAFRAME FORMAT as seen by 'type(test_x_orig)' command. "
   ]
  },
  {
   "cell_type": "code",
   "execution_count": 4,
   "metadata": {},
   "outputs": [
    {
     "name": "stdout",
     "output_type": "stream",
     "text": [
      "Shape of label_train  (42000, 1)\n",
      "\n",
      " Shape of pixels train (42000, 784)\n",
      "\n",
      " First 10 values of Labels_train [[1]\n",
      " [0]\n",
      " [1]\n",
      " [4]\n",
      " [0]\n",
      " [0]\n",
      " [7]\n",
      " [3]\n",
      " [5]\n",
      " [3]]\n"
     ]
    }
   ],
   "source": [
    "labels_train = (train_x_orig['label'].values).reshape(-1,1)\n",
    "\n",
    "pixels_train = train_x_orig.drop('label', axis = 1)\n",
    "\n",
    "print('Shape of label_train ',labels_train.shape)\n",
    "print('\\n Shape of pixels train',pixels_train.shape)\n",
    "\n",
    "print('\\n First 10 values of Labels_train',labels_train[:10])"
   ]
  },
  {
   "cell_type": "markdown",
   "metadata": {},
   "source": [
    "Above steps shows how we have seperated Labels and Pixels from our original Dataset for all 42,000 images.\n",
    "\n",
    "Next Step is DATA PREPROCESSING."
   ]
  },
  {
   "cell_type": "markdown",
   "metadata": {},
   "source": [
    "# DATA PREPROCESSING\n",
    "\n",
    "Why we need DATA preprocessing?\n",
    "\n",
    "![](https://ibb.co/JtLdz6f)\n",
    "As its clearly visible from the Image above, the pixels values follows 8-bit color system where maximum number for a color shade can be 256. including zero the scale ranges from 0-255 , 0 being full black and 255 being full white. Numbers in between are just shades of White and grey.\n",
    "\n",
    "Lets Visualize one Image from our dataset."
   ]
  },
  {
   "cell_type": "code",
   "execution_count": 5,
   "metadata": {},
   "outputs": [
    {
     "name": "stdout",
     "output_type": "stream",
     "text": [
      "IMAGE DATA TYPE  <class 'numpy.ndarray'>\n",
      "\n",
      " shape of 2nd image pixels =  (784,)\n"
     ]
    }
   ],
   "source": [
    "# 1st to convert DATAFRAME to uint8 datatype as array\n",
    "\n",
    "im = np.array(pixels_train, dtype = 'uint8')\n",
    "print('IMAGE DATA TYPE ',type(im))\n",
    "\n",
    "# taking 2nd image from dataset of 42,000, python 0 = real world 1, python 1 = real world 2\n",
    "\n",
    "im1 = im[1] # changing [this number] for im will give you any index of image you want to visualize\n",
    "print('\\n shape of 2nd image pixels = ', im1.shape)"
   ]
  },
  {
   "cell_type": "markdown",
   "metadata": {},
   "source": [
    "As we can see the 2nd image seperated is having length of 784 and plotting that would'nt make any sense, so we reshape it as 28x28 which is our image Dimension 28 x 28 = 784"
   ]
  },
  {
   "cell_type": "code",
   "execution_count": 6,
   "metadata": {},
   "outputs": [
    {
     "data": {
      "text/plain": [
       "<matplotlib.image.AxesImage at 0x7fec465089e8>"
      ]
     },
     "execution_count": 6,
     "metadata": {},
     "output_type": "execute_result"
    },
    {
     "data": {
      "image/png": "[encoded data removed]",
      "text/plain": [
       "<Figure size 432x288 with 1 Axes>"
      ]
     },
     "metadata": {
      "needs_background": "light"
     },
     "output_type": "display_data"
    }
   ],
   "source": [
    "im1 = im1.reshape((28,28))\n",
    "plt.imshow(im1, cmap = 'gray')"
   ]
  },
  {
   "cell_type": "markdown",
   "metadata": {},
   "source": [
    "Printing Label for correspoing image from Labels_train dataset = labels_train[1]\n"
   ]
  },
  {
   "cell_type": "code",
   "execution_count": 7,
   "metadata": {},
   "outputs": [
    {
     "name": "stdout",
     "output_type": "stream",
     "text": [
      "[0]\n"
     ]
    }
   ],
   "source": [
    "print(labels_train[1])"
   ]
  },
  {
   "cell_type": "markdown",
   "metadata": {},
   "source": [
    "Before continuing further we would be diving our dataset into 3 groups \n",
    "\n",
    "1- Training data- model will train itself on this data.\n",
    "\n",
    "2- Validation Data- model will only checks its validity on this data, \n",
    "   no direct training is done on this dataset.\n",
    "   \n",
    "3- Test dataset- this is being provided for aking predictions on. this dataset doesnt have labels ,      it only have pixel values which our model will provide labels for once trained. \n",
    "\n",
    "ratio between Train / validation dataset will be 70/30"
   ]
  },
  {
   "cell_type": "code",
   "execution_count": 8,
   "metadata": {},
   "outputs": [],
   "source": [
    "from sklearn.model_selection import train_test_split\n",
    "\n",
    "pix_train, pix_valid, label_train, label_valid = train_test_split(pixels_train, labels_train, test_size = 0.30)\n"
   ]
  },
  {
   "cell_type": "code",
   "execution_count": 9,
   "metadata": {},
   "outputs": [
    {
     "name": "stdout",
     "output_type": "stream",
     "text": [
      " Data type for pix_train =  <class 'pandas.core.frame.DataFrame'>\n",
      " Data type for label_train =  <class 'numpy.ndarray'>\n",
      " Data type for pix_valid =  <class 'pandas.core.frame.DataFrame'>\n",
      " Data type for label_valid =  <class 'numpy.ndarray'>\n"
     ]
    }
   ],
   "source": [
    "# data types of all variables\n",
    "print(' Data type for pix_train = ',type(pix_train))\n",
    "print(' Data type for label_train = ',type(label_train))\n",
    "print(' Data type for pix_valid = ',type(pix_valid))\n",
    "print(' Data type for label_valid = ',type(label_valid))"
   ]
  },
  {
   "cell_type": "markdown",
   "metadata": {},
   "source": [
    "Variable names can be confusing at times but upon reading and writing the code 2-3 times it becomes more clear:\n",
    "\n",
    "pix_train ::: pixels for training set\n",
    "\n",
    "labels_train ::: Labels for training set \n",
    "\n",
    "pix_valid ::: pixels for validation set\n",
    "\n",
    "label_valid ::: labels for validation set\n",
    "\n",
    "Also pixels_data is in still DATAFRAME format, we will conver this into 'float32' for mathematical operations."
   ]
  },
  {
   "cell_type": "code",
   "execution_count": 10,
   "metadata": {},
   "outputs": [
    {
     "name": "stdout",
     "output_type": "stream",
     "text": [
      " Data type for pix_train =  <class 'numpy.ndarray'>\n",
      " Data type for pix_valid =  <class 'numpy.ndarray'>\n"
     ]
    }
   ],
   "source": [
    "pix_train = (pix_train.values).astype('float32')\n",
    "pix_test = (test_x_orig.values).astype('float32')\n",
    "pix_valid = (pix_valid.values).astype('float32')\n",
    "\n",
    "\n",
    "print(' Data type for pix_train = ',type(pix_train))\n",
    "print(' Data type for pix_valid = ',type(pix_valid))"
   ]
  },
  {
   "cell_type": "markdown",
   "metadata": {},
   "source": [
    "Now we have 3 set of pixel data stored in pix_train, pix_valid, and pix_test.\n",
    "\n",
    "as the color encoding of images are in 8 bit they have maximum values of 255 to represent White color. We will be scaling this data by diving all the pixel values by 255.0.\n",
    "\n",
    "This step will ensure none of the pixel value is greater than 1.0 and less then 0.0."
   ]
  },
  {
   "cell_type": "code",
   "execution_count": 11,
   "metadata": {},
   "outputs": [
    {
     "name": "stdout",
     "output_type": "stream",
     "text": [
      "Maximum value in pix_train = 1.0\n",
      "Minimum value in pix_train = 0.0\n"
     ]
    }
   ],
   "source": [
    "pix_train /= 255.0\n",
    "pix_test  /= 255.0\n",
    "pix_valid /= 255.0\n",
    "\n",
    "print('Maximum value in pix_train =', np.max(pix_test))\n",
    "print('Minimum value in pix_train =', np.min(pix_train))"
   ]
  },
  {
   "cell_type": "markdown",
   "metadata": {},
   "source": [
    "Data Reshaping: in order to fit our data into the conv model we must reshape our data as:\n",
    "\n",
    "(number of images, 28,28,1)\n",
    "\n",
    "currently our data is shaped as (number of images,784)"
   ]
  },
  {
   "cell_type": "code",
   "execution_count": 12,
   "metadata": {},
   "outputs": [
    {
     "name": "stdout",
     "output_type": "stream",
     "text": [
      "Shape of pix_train = (29400, 784)\n"
     ]
    }
   ],
   "source": [
    "print('Shape of pix_train =',pix_train.shape)"
   ]
  },
  {
   "cell_type": "code",
   "execution_count": 13,
   "metadata": {},
   "outputs": [
    {
     "name": "stdout",
     "output_type": "stream",
     "text": [
      "Shape of pix_train after reshaping= (29400, 28, 28, 1)\n"
     ]
    }
   ],
   "source": [
    "# reshaping\n",
    "pix_train = pix_train.reshape(pix_train.shape[0], 28,28,1)\n",
    "pix_test = pix_test.reshape(pix_test.shape[0], 28, 28,1)\n",
    "pix_valid = pix_valid.reshape(pix_valid.shape[0], 28, 28,1)\n",
    "\n",
    "print('Shape of pix_train after reshaping=',pix_train.shape)"
   ]
  },
  {
   "cell_type": "markdown",
   "metadata": {},
   "source": [
    "Preprocessing LABELS\n",
    "\n",
    "till now we were busy to make our pixel data ready for our model.\n",
    "\n",
    "Now we need to process our labels, here we will use ONE HOT ENCODING.\n",
    "\n",
    "the best article for understanding ONE HOT ENCODING - [https://machinelearningmastery.com/why-one-hot-encode-data-in-machine-learning/](httpS://machinelearningmastery.com/why-one-hot-encode-data-in-machine-learning/)\n",
    "\n",
    "Our Digits/ labels ranges from 0-9 i.e 10 classes, it is required to input this number in our model last layer."
   ]
  },
  {
   "cell_type": "code",
   "execution_count": 14,
   "metadata": {},
   "outputs": [
    {
     "name": "stdout",
     "output_type": "stream",
     "text": [
      "Number of classes 10\n"
     ]
    }
   ],
   "source": [
    "num_classes = len(np.unique(labels_train))\n",
    "\n",
    "print('Number of classes', num_classes)"
   ]
  },
  {
   "cell_type": "markdown",
   "metadata": {},
   "source": [
    "One Hot Encoding will categorise our labels into 0-1 instead of 0-9, to represent number between 0-9 using numbers 0-9 is easy. \n",
    "\n",
    "Example: 9 is a 9 and we understand it as 9.\n",
    "but our model require more simple version of this and the only vocabulary it has of digits are 0,1.\n",
    "\n",
    "we have to represent number 9 in form of 0 and 1.\n",
    "\n",
    "this is done via hot hot encoding which do the following conversion to entire labele_data.\n",
    "\n",
    "0 = [1, 0, 0, 0, 0, 0, 0 , 0, 0, 0]\n",
    "\n",
    "1 = [0, 1, 0, 0, 0, 0, 0 , 0, 0, 0]\n",
    "\n",
    "2 = [1, 0, 1, 0, 0, 0, 0 , 0, 0, 0]\n",
    "\n",
    "3 = [1, 0, 0, 1, 0, 0, 0 , 0, 0, 0]\n",
    "\n",
    "4 = [1, 0, 0, 0, 1, 0, 0 , 0, 0, 0]\n",
    "\n",
    "5 = [1, 0, 0, 0, 0, 1, 0 , 0, 0, 0]\n",
    "\n",
    "6 = [1, 0, 0, 0, 0, 0, 1 , 0, 0, 0]\n",
    "\n",
    "7 = [1, 0, 0, 0, 0, 0, 0 , 1, 0, 0]\n",
    "\n",
    "8 = [1, 0, 0, 0, 0, 0, 0 , 0, 1, 0]\n",
    "\n",
    "9 = [1, 0, 0, 0, 0, 0, 0 , 0, 0, 1]"
   ]
  },
  {
   "cell_type": "code",
   "execution_count": 15,
   "metadata": {},
   "outputs": [
    {
     "name": "stderr",
     "output_type": "stream",
     "text": [
      "Using TensorFlow backend.\n",
      "/opt/conda/lib/python3.6/site-packages/tensorflow/python/framework/dtypes.py:516: FutureWarning: Passing (type, 1) or '1type' as a synonym of type is deprecated; in a future version of numpy, it will be understood as (type, (1,)) / '(1,)type'.\n",
      "  _np_qint8 = np.dtype([(\"qint8\", np.int8, 1)])\n",
      "/opt/conda/lib/python3.6/site-packages/tensorflow/python/framework/dtypes.py:517: FutureWarning: Passing (type, 1) or '1type' as a synonym of type is deprecated; in a future version of numpy, it will be understood as (type, (1,)) / '(1,)type'.\n",
      "  _np_quint8 = np.dtype([(\"quint8\", np.uint8, 1)])\n",
      "/opt/conda/lib/python3.6/site-packages/tensorflow/python/framework/dtypes.py:518: FutureWarning: Passing (type, 1) or '1type' as a synonym of type is deprecated; in a future version of numpy, it will be understood as (type, (1,)) / '(1,)type'.\n",
      "  _np_qint16 = np.dtype([(\"qint16\", np.int16, 1)])\n",
      "/opt/conda/lib/python3.6/site-packages/tensorflow/python/framework/dtypes.py:519: FutureWarning: Passing (type, 1) or '1type' as a synonym of type is deprecated; in a future version of numpy, it will be understood as (type, (1,)) / '(1,)type'.\n",
      "  _np_quint16 = np.dtype([(\"quint16\", np.uint16, 1)])\n",
      "/opt/conda/lib/python3.6/site-packages/tensorflow/python/framework/dtypes.py:520: FutureWarning: Passing (type, 1) or '1type' as a synonym of type is deprecated; in a future version of numpy, it will be understood as (type, (1,)) / '(1,)type'.\n",
      "  _np_qint32 = np.dtype([(\"qint32\", np.int32, 1)])\n",
      "/opt/conda/lib/python3.6/site-packages/tensorflow/python/framework/dtypes.py:525: FutureWarning: Passing (type, 1) or '1type' as a synonym of type is deprecated; in a future version of numpy, it will be understood as (type, (1,)) / '(1,)type'.\n",
      "  np_resource = np.dtype([(\"resource\", np.ubyte, 1)])\n"
     ]
    },
    {
     "name": "stdout",
     "output_type": "stream",
     "text": [
      "after one hot encoder [0. 1. 0. 0. 0. 0. 0. 0. 0. 0.]\n"
     ]
    },
    {
     "name": "stderr",
     "output_type": "stream",
     "text": [
      "/opt/conda/lib/python3.6/site-packages/tensorboard/compat/tensorflow_stub/dtypes.py:541: FutureWarning: Passing (type, 1) or '1type' as a synonym of type is deprecated; in a future version of numpy, it will be understood as (type, (1,)) / '(1,)type'.\n",
      "  _np_qint8 = np.dtype([(\"qint8\", np.int8, 1)])\n",
      "/opt/conda/lib/python3.6/site-packages/tensorboard/compat/tensorflow_stub/dtypes.py:542: FutureWarning: Passing (type, 1) or '1type' as a synonym of type is deprecated; in a future version of numpy, it will be understood as (type, (1,)) / '(1,)type'.\n",
      "  _np_quint8 = np.dtype([(\"quint8\", np.uint8, 1)])\n",
      "/opt/conda/lib/python3.6/site-packages/tensorboard/compat/tensorflow_stub/dtypes.py:543: FutureWarning: Passing (type, 1) or '1type' as a synonym of type is deprecated; in a future version of numpy, it will be understood as (type, (1,)) / '(1,)type'.\n",
      "  _np_qint16 = np.dtype([(\"qint16\", np.int16, 1)])\n",
      "/opt/conda/lib/python3.6/site-packages/tensorboard/compat/tensorflow_stub/dtypes.py:544: FutureWarning: Passing (type, 1) or '1type' as a synonym of type is deprecated; in a future version of numpy, it will be understood as (type, (1,)) / '(1,)type'.\n",
      "  _np_quint16 = np.dtype([(\"quint16\", np.uint16, 1)])\n",
      "/opt/conda/lib/python3.6/site-packages/tensorboard/compat/tensorflow_stub/dtypes.py:545: FutureWarning: Passing (type, 1) or '1type' as a synonym of type is deprecated; in a future version of numpy, it will be understood as (type, (1,)) / '(1,)type'.\n",
      "  _np_qint32 = np.dtype([(\"qint32\", np.int32, 1)])\n",
      "/opt/conda/lib/python3.6/site-packages/tensorboard/compat/tensorflow_stub/dtypes.py:550: FutureWarning: Passing (type, 1) or '1type' as a synonym of type is deprecated; in a future version of numpy, it will be understood as (type, (1,)) / '(1,)type'.\n",
      "  np_resource = np.dtype([(\"resource\", np.ubyte, 1)])\n"
     ]
    }
   ],
   "source": [
    "# using ONE HOT ENCODER\n",
    "from keras.utils import to_categorical\n",
    "\n",
    "label_train = to_categorical(label_train)\n",
    "label_valid = to_categorical(label_valid)\n",
    "\n",
    "print('after one hot encoder',label_valid[0])"
   ]
  },
  {
   "cell_type": "markdown",
   "metadata": {},
   "source": [
    "we can manually count the number and say the number represented by this vector is 6."
   ]
  },
  {
   "cell_type": "markdown",
   "metadata": {},
   "source": [
    "# MODELLING\n",
    "\n",
    "Keras Convolution Model\n",
    "\n",
    "Since this is the core of this code I assume that you know the basics.\n",
    "\n",
    "Some of the important terms are: PADDING, KERNEL_SIZE, STRIDE, number of neurons in any dimension\n",
    "\n",
    "[assuming dimension in both Height, width are equal]\n",
    "\n",
    "formula to calculate number of pixels after 1 conv layer is applied.\n",
    "\n",
    "number of pixel in next layer = [(number of pixel in last layer + 2 x padding - kernel_size) / stride] + 1\n",
    "\n",
    "\n",
    "for our model we will follow the below mentioned model structure::\n",
    "\n",
    "1st conv layer : number of filter 64, kernel_size = (3,3), strides = 1, padding = 0\n",
    "\n",
    "2nd conv layer : number of filter 64, kernel_size = (3,3), strides = 1, padding = 0\n",
    "\n",
    "1st max Pooling layer : kernel_size = (2,2)\n",
    "\n",
    "3rd conv layer : number of filter 128, kernel_size = (3,3), strides = 1, padding = 0\n",
    "\n",
    "4th conv layer : number of filter 128, kernel_size = (3,3), strides = 1, padding = 0\n",
    "\n",
    "2nd max Pooling layer : kernel_size = (2,2)\n",
    "\n",
    "####################################################################\n",
    "\n",
    "using formula to get output dim for 1st conv layer:\n",
    "\n",
    "padding = 0 = padding = 'valid'\n",
    "\n",
    "1st Conv layer output = [(28 + 0 - 3) / 1] + 1  =  26\n",
    "\n",
    "1st Conv layer output = 26 x 26 x 64\n",
    "\n",
    "2nd Conv layer output = [(26 + 0 - 3)  /  1] + 1 = 24\n",
    "\n",
    "2nd Conv layer output = 24 x 24 x 64\n",
    "\n",
    "1st Max Pool layer output = 24 x 24 x 64 -->> 12 x 12 x 64\n",
    "\n",
    "3rd Conv layer output = [(12 + 0 -3)  / 1] + 1  = 10\n",
    "\n",
    "3rd Conv layer output = 10 x 10 x 128\n",
    "\n",
    "4th Conv layer output = [(10 + 0 -3)  / 1] + 1 = 8\n",
    "\n",
    "4th Conv layer output = 8 x 8 x 128\n",
    "\n",
    "2nd Max Pool layer output = 8 x 8 x 64 -->> 4 x 4 x 128\n",
    "\n",
    "\n",
    "\n",
    "Now as our Image has reduced to 4 x 4 x 128 we will now be getting back to traditional Neural network,\n",
    "by using 4 x 4 x 64 neurons all in one layer, instead of 4 x 4 in 128.\n",
    "\n",
    "Total number of neurons in layer = 4 x 4 x 128 = 2048\n",
    "\n",
    "we will be having 2 layers of 256 nuerons and last output layer of 10 neurons for 10 classes that we have.\n",
    "\n",
    "2048 --> 512 --> 256 --> 10\n",
    "\n",
    "\n",
    "Activations Functions used - ReLu for all layers except last,\n",
    "It will have Softmax."
   ]
  },
  {
   "cell_type": "code",
   "execution_count": 16,
   "metadata": {},
   "outputs": [],
   "source": [
    "import tensorflow as tf\n",
    "from keras.layers import Dense, Conv2D, Flatten, Dropout, BatchNormalization, MaxPooling2D\n",
    "from keras.models import Sequential\n",
    "\n",
    "model = Sequential()\n",
    "\n",
    "model.add(Conv2D(filters = 64, kernel_size = (3,3), strides = 1, padding = 'valid', activation = 'relu', input_shape = pix_train.shape[1:] ))\n",
    "model.add(Conv2D(filters = 64, kernel_size = (3,3), strides = 1, padding = 'valid', activation = 'relu'))\n",
    "model.add(MaxPooling2D(pool_size = (2,2)))\n",
    "\n",
    "model.add(Conv2D(filters = 128, kernel_size = (3,3), strides = 1, padding = 'valid', activation = 'relu'))\n",
    "model.add(Conv2D(filters = 128, kernel_size = (3,3), strides = 1, padding = 'valid', activation = 'relu'))\n",
    "model.add(MaxPooling2D(pool_size = (2,2)))\n",
    "\n",
    "model.add(Flatten())\n",
    "\n",
    "model.add(Dense(512, activation = 'relu'))\n",
    "model.add(Dropout(0.3))\n",
    "model.add(BatchNormalization())\n",
    "\n",
    "model.add(Dense(256, activation = 'relu'))\n",
    "model.add(Dropout(0.3))\n",
    "model.add(BatchNormalization())\n",
    "\n",
    "model.add(Dense(num_classes, activation = 'softmax'))\n",
    "\n",
    "model.compile(loss = 'categorical_crossentropy', optimizer = 'SGD', metrics = ['accuracy'])"
   ]
  },
  {
   "cell_type": "markdown",
   "metadata": {},
   "source": [
    "Since the model is now compiled we can match our calculated dimensions with the models structure.\n",
    "Use model.summary() to get  the results."
   ]
  },
  {
   "cell_type": "code",
   "execution_count": 17,
   "metadata": {},
   "outputs": [
    {
     "name": "stdout",
     "output_type": "stream",
     "text": [
      "_________________________________________________________________\n",
      "Layer (type)                 Output Shape              Param #   \n",
      "=================================================================\n",
      "conv2d_1 (Conv2D)            (None, 26, 26, 64)        640       \n",
      "_________________________________________________________________\n",
      "conv2d_2 (Conv2D)            (None, 24, 24, 64)        36928     \n",
      "_________________________________________________________________\n",
      "max_pooling2d_1 (MaxPooling2 (None, 12, 12, 64)        0         \n",
      "_________________________________________________________________\n",
      "conv2d_3 (Conv2D)            (None, 10, 10, 128)       73856     \n",
      "_________________________________________________________________\n",
      "conv2d_4 (Conv2D)            (None, 8, 8, 128)         147584    \n",
      "_________________________________________________________________\n",
      "max_pooling2d_2 (MaxPooling2 (None, 4, 4, 128)         0         \n",
      "_________________________________________________________________\n",
      "flatten_1 (Flatten)          (None, 2048)              0         \n",
      "_________________________________________________________________\n",
      "dense_1 (Dense)              (None, 512)               1049088   \n",
      "_________________________________________________________________\n",
      "dropout_1 (Dropout)          (None, 512)               0         \n",
      "_________________________________________________________________\n",
      "batch_normalization_1 (Batch (None, 512)               2048      \n",
      "_________________________________________________________________\n",
      "dense_2 (Dense)              (None, 256)               131328    \n",
      "_________________________________________________________________\n",
      "dropout_2 (Dropout)          (None, 256)               0         \n",
      "_________________________________________________________________\n",
      "batch_normalization_2 (Batch (None, 256)               1024      \n",
      "_________________________________________________________________\n",
      "dense_3 (Dense)              (None, 10)                2570      \n",
      "=================================================================\n",
      "Total params: 1,445,066\n",
      "Trainable params: 1,443,530\n",
      "Non-trainable params: 1,536\n",
      "_________________________________________________________________\n"
     ]
    }
   ],
   "source": [
    "model.summary()"
   ]
  },
  {
   "cell_type": "markdown",
   "metadata": {},
   "source": [
    "This is the last step for Modelling, here we will fit the model with the data we have pre-processed and pass on the number of epochs, batch_size and validation data."
   ]
  },
  {
   "cell_type": "code",
   "execution_count": 18,
   "metadata": {},
   "outputs": [
    {
     "name": "stdout",
     "output_type": "stream",
     "text": [
      "Train on 29400 samples, validate on 12600 samples\n",
      "Epoch 1/100\n",
      "29400/29400 [==============================] - 8s 273us/step - loss: 0.4134 - acc: 0.8742 - val_loss: 0.1438 - val_acc: 0.9582\n",
      "Epoch 2/100\n",
      "29400/29400 [==============================] - 5s 164us/step - loss: 0.1418 - acc: 0.9592 - val_loss: 0.0829 - val_acc: 0.9760\n",
      "Epoch 3/100\n",
      "29400/29400 [==============================] - 5s 164us/step - loss: 0.1056 - acc: 0.9690 - val_loss: 0.0746 - val_acc: 0.9775\n",
      "Epoch 4/100\n",
      "29400/29400 [==============================] - 5s 164us/step - loss: 0.0802 - acc: 0.9756 - val_loss: 0.0658 - val_acc: 0.9792\n",
      "Epoch 5/100\n",
      "29400/29400 [==============================] - 5s 163us/step - loss: 0.0720 - acc: 0.9787 - val_loss: 0.0507 - val_acc: 0.9840\n",
      "Epoch 6/100\n",
      "29400/29400 [==============================] - 5s 164us/step - loss: 0.0627 - acc: 0.9820 - val_loss: 0.0482 - val_acc: 0.9856\n",
      "Epoch 7/100\n",
      "29400/29400 [==============================] - 5s 164us/step - loss: 0.0548 - acc: 0.9835 - val_loss: 0.0442 - val_acc: 0.9863\n",
      "Epoch 8/100\n",
      "29400/29400 [==============================] - 5s 164us/step - loss: 0.0475 - acc: 0.9859 - val_loss: 0.0589 - val_acc: 0.9820\n",
      "Epoch 9/100\n",
      "29400/29400 [==============================] - 5s 164us/step - loss: 0.0438 - acc: 0.9873 - val_loss: 0.0412 - val_acc: 0.9870\n",
      "Epoch 10/100\n",
      "29400/29400 [==============================] - 5s 164us/step - loss: 0.0409 - acc: 0.9877 - val_loss: 0.0491 - val_acc: 0.9843\n",
      "Epoch 11/100\n",
      "29400/29400 [==============================] - 5s 164us/step - loss: 0.0378 - acc: 0.9888 - val_loss: 0.0432 - val_acc: 0.9863\n",
      "Epoch 12/100\n",
      "29400/29400 [==============================] - 5s 164us/step - loss: 0.0350 - acc: 0.9903 - val_loss: 0.0394 - val_acc: 0.9869\n",
      "Epoch 13/100\n",
      "29400/29400 [==============================] - 5s 164us/step - loss: 0.0312 - acc: 0.9910 - val_loss: 0.0638 - val_acc: 0.9810\n",
      "Epoch 14/100\n",
      "29400/29400 [==============================] - 5s 164us/step - loss: 0.0317 - acc: 0.9908 - val_loss: 0.0398 - val_acc: 0.9884\n",
      "Epoch 15/100\n",
      "29400/29400 [==============================] - 5s 164us/step - loss: 0.0293 - acc: 0.9913 - val_loss: 0.0421 - val_acc: 0.9881\n",
      "Epoch 16/100\n",
      "29400/29400 [==============================] - 5s 165us/step - loss: 0.0256 - acc: 0.9927 - val_loss: 0.0411 - val_acc: 0.9874\n",
      "Epoch 17/100\n",
      "29400/29400 [==============================] - 5s 164us/step - loss: 0.0236 - acc: 0.9932 - val_loss: 0.0395 - val_acc: 0.9887\n",
      "Epoch 18/100\n",
      "29400/29400 [==============================] - 5s 164us/step - loss: 0.0217 - acc: 0.9940 - val_loss: 0.0327 - val_acc: 0.9901\n",
      "Epoch 19/100\n",
      "29400/29400 [==============================] - 5s 168us/step - loss: 0.0207 - acc: 0.9946 - val_loss: 0.0336 - val_acc: 0.9902\n",
      "Epoch 20/100\n",
      "29400/29400 [==============================] - 5s 169us/step - loss: 0.0186 - acc: 0.9949 - val_loss: 0.0329 - val_acc: 0.9901\n",
      "Epoch 21/100\n",
      "29400/29400 [==============================] - 5s 163us/step - loss: 0.0177 - acc: 0.9954 - val_loss: 0.0307 - val_acc: 0.9902\n",
      "Epoch 22/100\n",
      "29400/29400 [==============================] - 5s 164us/step - loss: 0.0170 - acc: 0.9949 - val_loss: 0.0323 - val_acc: 0.9901\n",
      "Epoch 23/100\n",
      "29400/29400 [==============================] - 5s 164us/step - loss: 0.0157 - acc: 0.9957 - val_loss: 0.0312 - val_acc: 0.9909\n",
      "Epoch 24/100\n",
      "29400/29400 [==============================] - 5s 165us/step - loss: 0.0156 - acc: 0.9954 - val_loss: 0.0323 - val_acc: 0.9900\n",
      "Epoch 25/100\n",
      "29400/29400 [==============================] - 5s 164us/step - loss: 0.0150 - acc: 0.9960 - val_loss: 0.0323 - val_acc: 0.9902\n",
      "Epoch 26/100\n",
      "29400/29400 [==============================] - 5s 164us/step - loss: 0.0145 - acc: 0.9959 - val_loss: 0.0327 - val_acc: 0.9910\n",
      "Epoch 27/100\n",
      "29400/29400 [==============================] - 5s 164us/step - loss: 0.0133 - acc: 0.9963 - val_loss: 0.0318 - val_acc: 0.9911\n",
      "Epoch 28/100\n",
      "29400/29400 [==============================] - 5s 164us/step - loss: 0.0118 - acc: 0.9969 - val_loss: 0.0319 - val_acc: 0.9906\n",
      "Epoch 29/100\n",
      "29400/29400 [==============================] - 5s 163us/step - loss: 0.0114 - acc: 0.9971 - val_loss: 0.0356 - val_acc: 0.9887\n",
      "Epoch 30/100\n",
      "29400/29400 [==============================] - 5s 164us/step - loss: 0.0114 - acc: 0.9974 - val_loss: 0.0333 - val_acc: 0.9910\n",
      "Epoch 31/100\n",
      "29400/29400 [==============================] - 5s 165us/step - loss: 0.0097 - acc: 0.9977 - val_loss: 0.0305 - val_acc: 0.9915\n",
      "Epoch 32/100\n",
      "29400/29400 [==============================] - 5s 164us/step - loss: 0.0100 - acc: 0.9974 - val_loss: 0.0300 - val_acc: 0.9911\n",
      "Epoch 33/100\n",
      "29400/29400 [==============================] - 5s 166us/step - loss: 0.0103 - acc: 0.9974 - val_loss: 0.0293 - val_acc: 0.9915\n",
      "Epoch 34/100\n",
      "29400/29400 [==============================] - 5s 165us/step - loss: 0.0087 - acc: 0.9979 - val_loss: 0.0289 - val_acc: 0.9919\n",
      "Epoch 35/100\n",
      "29400/29400 [==============================] - 5s 163us/step - loss: 0.0083 - acc: 0.9980 - val_loss: 0.0305 - val_acc: 0.9916\n",
      "Epoch 36/100\n",
      "29400/29400 [==============================] - 5s 165us/step - loss: 0.0084 - acc: 0.9979 - val_loss: 0.0296 - val_acc: 0.9916\n",
      "Epoch 37/100\n",
      "29400/29400 [==============================] - 5s 165us/step - loss: 0.0078 - acc: 0.9981 - val_loss: 0.0323 - val_acc: 0.9915\n",
      "Epoch 38/100\n",
      "29400/29400 [==============================] - 5s 163us/step - loss: 0.0079 - acc: 0.9981 - val_loss: 0.0297 - val_acc: 0.9913\n",
      "Epoch 39/100\n",
      "29400/29400 [==============================] - 5s 164us/step - loss: 0.0074 - acc: 0.9983 - val_loss: 0.0293 - val_acc: 0.9909\n",
      "Epoch 40/100\n",
      "29400/29400 [==============================] - 5s 163us/step - loss: 0.0075 - acc: 0.9981 - val_loss: 0.0317 - val_acc: 0.9906\n",
      "Epoch 41/100\n",
      "29400/29400 [==============================] - 5s 164us/step - loss: 0.0073 - acc: 0.9981 - val_loss: 0.0301 - val_acc: 0.9922\n",
      "Epoch 42/100\n",
      "29400/29400 [==============================] - 5s 163us/step - loss: 0.0063 - acc: 0.9987 - val_loss: 0.0294 - val_acc: 0.9911\n",
      "Epoch 43/100\n",
      "29400/29400 [==============================] - 5s 164us/step - loss: 0.0067 - acc: 0.9984 - val_loss: 0.0291 - val_acc: 0.9918\n",
      "Epoch 44/100\n",
      "29400/29400 [==============================] - 5s 164us/step - loss: 0.0060 - acc: 0.9987 - val_loss: 0.0304 - val_acc: 0.9914\n",
      "Epoch 45/100\n",
      "29400/29400 [==============================] - 5s 164us/step - loss: 0.0051 - acc: 0.9991 - val_loss: 0.0360 - val_acc: 0.9895\n",
      "Epoch 46/100\n",
      "29400/29400 [==============================] - 5s 166us/step - loss: 0.0049 - acc: 0.9990 - val_loss: 0.0348 - val_acc: 0.9911\n",
      "Epoch 47/100\n",
      "29400/29400 [==============================] - 5s 165us/step - loss: 0.0051 - acc: 0.9988 - val_loss: 0.0288 - val_acc: 0.9921\n",
      "Epoch 48/100\n",
      "29400/29400 [==============================] - 5s 164us/step - loss: 0.0051 - acc: 0.9989 - val_loss: 0.0308 - val_acc: 0.9907\n",
      "Epoch 49/100\n",
      "29400/29400 [==============================] - 5s 184us/step - loss: 0.0052 - acc: 0.9991 - val_loss: 0.0308 - val_acc: 0.9917\n",
      "Epoch 50/100\n",
      "29400/29400 [==============================] - 5s 165us/step - loss: 0.0048 - acc: 0.9992 - val_loss: 0.0290 - val_acc: 0.9921\n",
      "Epoch 51/100\n",
      "29400/29400 [==============================] - 5s 165us/step - loss: 0.0046 - acc: 0.9993 - val_loss: 0.0314 - val_acc: 0.9915\n",
      "Epoch 52/100\n",
      "29400/29400 [==============================] - 5s 163us/step - loss: 0.0039 - acc: 0.9994 - val_loss: 0.0299 - val_acc: 0.9927\n",
      "Epoch 53/100\n",
      "29400/29400 [==============================] - 5s 164us/step - loss: 0.0048 - acc: 0.9989 - val_loss: 0.0304 - val_acc: 0.9927\n",
      "Epoch 54/100\n",
      "29400/29400 [==============================] - 5s 164us/step - loss: 0.0043 - acc: 0.9991 - val_loss: 0.0295 - val_acc: 0.9926\n",
      "Epoch 55/100\n",
      "29400/29400 [==============================] - 5s 164us/step - loss: 0.0044 - acc: 0.9991 - val_loss: 0.0373 - val_acc: 0.9901\n",
      "Epoch 56/100\n",
      "29400/29400 [==============================] - 5s 164us/step - loss: 0.0042 - acc: 0.9991 - val_loss: 0.0305 - val_acc: 0.9919\n",
      "Epoch 57/100\n",
      "29400/29400 [==============================] - 5s 164us/step - loss: 0.0043 - acc: 0.9993 - val_loss: 0.0302 - val_acc: 0.9922\n",
      "Epoch 58/100\n",
      "29400/29400 [==============================] - 5s 164us/step - loss: 0.0033 - acc: 0.9995 - val_loss: 0.0308 - val_acc: 0.9919\n",
      "Epoch 59/100\n",
      "29400/29400 [==============================] - 5s 163us/step - loss: 0.0034 - acc: 0.9994 - val_loss: 0.0397 - val_acc: 0.9902\n",
      "Epoch 60/100\n",
      "29400/29400 [==============================] - 5s 164us/step - loss: 0.0039 - acc: 0.9993 - val_loss: 0.0292 - val_acc: 0.9924\n",
      "Epoch 61/100\n",
      "29400/29400 [==============================] - 5s 165us/step - loss: 0.0048 - acc: 0.9988 - val_loss: 0.0299 - val_acc: 0.9921\n",
      "Epoch 62/100\n",
      "29400/29400 [==============================] - 5s 164us/step - loss: 0.0041 - acc: 0.9990 - val_loss: 0.0311 - val_acc: 0.9921\n",
      "Epoch 63/100\n",
      "29400/29400 [==============================] - 5s 164us/step - loss: 0.0038 - acc: 0.9992 - val_loss: 0.0288 - val_acc: 0.9924\n",
      "Epoch 64/100\n",
      "29400/29400 [==============================] - 5s 164us/step - loss: 0.0033 - acc: 0.9994 - val_loss: 0.0305 - val_acc: 0.9923\n",
      "Epoch 65/100\n",
      "29400/29400 [==============================] - 5s 164us/step - loss: 0.0032 - acc: 0.9996 - val_loss: 0.0291 - val_acc: 0.9926\n",
      "Epoch 66/100\n",
      "29400/29400 [==============================] - 5s 165us/step - loss: 0.0035 - acc: 0.9991 - val_loss: 0.0297 - val_acc: 0.9921\n",
      "Epoch 67/100\n",
      "29400/29400 [==============================] - 5s 164us/step - loss: 0.0030 - acc: 0.9995 - val_loss: 0.0283 - val_acc: 0.9929\n",
      "Epoch 68/100\n",
      "29400/29400 [==============================] - 5s 164us/step - loss: 0.0029 - acc: 0.9995 - val_loss: 0.0293 - val_acc: 0.9925\n",
      "Epoch 69/100\n",
      "29400/29400 [==============================] - 5s 164us/step - loss: 0.0037 - acc: 0.9991 - val_loss: 0.0327 - val_acc: 0.9915\n",
      "Epoch 70/100\n",
      "29400/29400 [==============================] - 5s 165us/step - loss: 0.0031 - acc: 0.9994 - val_loss: 0.0292 - val_acc: 0.9918\n",
      "Epoch 71/100\n",
      "29400/29400 [==============================] - 5s 164us/step - loss: 0.0029 - acc: 0.9993 - val_loss: 0.0305 - val_acc: 0.9921\n",
      "Epoch 72/100\n",
      "29400/29400 [==============================] - 5s 164us/step - loss: 0.0024 - acc: 0.9996 - val_loss: 0.0300 - val_acc: 0.9930\n",
      "Epoch 73/100\n",
      "29400/29400 [==============================] - 5s 165us/step - loss: 0.0025 - acc: 0.9996 - val_loss: 0.0299 - val_acc: 0.9925\n",
      "Epoch 74/100\n",
      "29400/29400 [==============================] - 5s 164us/step - loss: 0.0022 - acc: 0.9996 - val_loss: 0.0306 - val_acc: 0.9919\n",
      "Epoch 75/100\n",
      "22400/29400 [=====================>........] - ETA: 1s - loss: 0.0029 - acc: 0.9994"
     ]
    }
   ],
   "source": [
    "hist = model.fit(pix_train, label_train, epochs = 100, batch_size = 64, validation_data = (pix_valid, label_valid))"
   ]
  },
  {
   "cell_type": "markdown",
   "metadata": {},
   "source": [
    "Number of epochs can be changed to understand the learning curve of the model.\n",
    "Parameters that can regulated by users are:\n",
    "\n",
    "[PADDING, KERNEL_SIZE, STRIDE, POOLING](https://keras.io/layers/convolutional/), [NUMBER OF NEURON IN DENSE LAYER(256 --> 1024, ANYTHING)](https://keras.io/layers/core/#dense), [ACTIVATION FUNCTIONS](https://keras.io/activations/), [OPTIMIZERS](https://keras.io/optimizers/),[ LOSS FUNCTIONS](https://keras.io/losses/), [EPOCHS, BATCH-SIZE.](https://keras.io/getting-started/faq/#what-does-sample-batch-epoch-mean)\n",
    "\n",
    "\n",
    "plotting the Loss and Accuracy curve with number of epochs on y axis."
   ]
  },
  {
   "cell_type": "code",
   "execution_count": 19,
   "metadata": {},
   "outputs": [
    {
     "data": {
      "image/png": "[encoded data removed]",
      "text/plain": [
       "<Figure size 432x288 with 2 Axes>"
      ]
     },
     "metadata": {
      "needs_background": "light"
     },
     "output_type": "display_data"
    }
   ],
   "source": [
    "# plot loss during training\n",
    "plt.subplot(211)\n",
    "plt.title('Loss')\n",
    "plt.plot(hist.history['loss'], label='train')\n",
    "plt.plot(hist.history['val_loss'], label='test')\n",
    "plt.legend()\n",
    "# plot accuracy during training\n",
    "plt.subplot(212)\n",
    "plt.title('Accuracy')\n",
    "plt.plot(hist.history['acc'], label='train')\n",
    "plt.plot(hist.history['val_acc'], label='test')\n",
    "plt.legend()\n",
    "plt.show()"
   ]
  },
  {
   "cell_type": "markdown",
   "metadata": {},
   "source": [
    "# DATA POST PROCESSING\n",
    "\n",
    "As our model is now trained we will use it for predicting labels for TEST set provided and then converting that output to the format required by KAGGLE to submit."
   ]
  },
  {
   "cell_type": "code",
   "execution_count": 20,
   "metadata": {},
   "outputs": [],
   "source": [
    "results = model.predict(pix_test)\n",
    "\n",
    "results = np.argmax(results, axis = 1)\n",
    "\n",
    "results = pd.Series(results, name = 'Label')\n",
    "\n",
    "sub = pd.concat([pd.Series(range(1,28001), name = 'ImageId'), results], axis = 1)\n",
    "\n",
    "sub.to_csv('csv_to_submit.csv', index = False)\n"
   ]
  },
  {
   "cell_type": "markdown",
   "metadata": {},
   "source": [
    "Our result file will be saved names as fin_01.csv.\n",
    "\n",
    "There are Lot more options avalable to tweak with CONV neural Network,\n",
    "like [xavier initialization](https://keras.io/initializers/), [Dropout](https://keras.io/layers/core/#dropout), [BatchNormalization](https://keras.io/backend/#batch_normalization), [ImagedataGenerator](https://keras.io/preprocessing/image/) "
   ]
  },
  {
   "cell_type": "code",
   "execution_count": null,
   "metadata": {},
   "outputs": [],
   "source": []
  }
 ],
 "metadata": {
  "kernelspec": {
   "display_name": "Python 3",
   "language": "python",
   "name": "python3"
  },
  "language_info": {
   "codemirror_mode": {
    "name": "ipython",
    "version": 3
   },
   "file_extension": ".py",
   "mimetype": "text/x-python",
   "name": "python",
   "nbconvert_exporter": "python",
   "pygments_lexer": "ipython3",
   "version": "3.6.10"
  }
 },
 "nbformat": 4,
 "nbformat_minor": 1
}
